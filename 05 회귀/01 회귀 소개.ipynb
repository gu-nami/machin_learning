{
 "cells": [
  {
   "cell_type": "markdown",
   "id": "7b4f609a",
   "metadata": {},
   "source": [
    "# 05 회귀\n",
    "\n",
    "## 01 회귀 소개"
   ]
  },
  {
   "cell_type": "markdown",
   "id": "f3824991",
   "metadata": {},
   "source": [
    "+ 회귀는 현대 통계학을 이루는 큰 축\n",
    "+ 회귀 분석은 유전적 특성을 연구하던 영국의 통계학자 갈톤(Gaton)이 수행한 연구에서 유래했다고 알려져있다."
   ]
  },
  {
   "cell_type": "markdown",
   "id": "95470924",
   "metadata": {},
   "source": [
    "__갈톤의 연구 내용__\n",
    "\n",
    "영국의 유전학자 갈톤은 부모의 키와 아이들의 키 사이의 연관 관계를 연구하면서 부모와 자녀의 키사이에는 선형적인 관계가 있고 부모의 키가 아주 크더라도 자식의 키가 부모보다 더 커서 세대를 이어가며 무한정 커지는 것은 아니며, 부모의 키가 아주 작더라도 자식의 키가 부모보다 더 작아서 세대를 이어가며 무한정 작아지는 것이 아니라 평균 키로 회귀하려는 경향을 가진다는 가설을 세웠으며 이를 분석하는 방법을 회귀분석이라고 하였다.\n",
    "\n",
    "__회귀 분석은 이처럼 데이터 값이 평균과 같은 일정한 값으로 돌아가려는 경향을 이용한 통계학 기법이다.__\n"
   ]
  },
  {
   "cell_type": "markdown",
   "id": "40fc1708",
   "metadata": {},
   "source": [
    "### 회귀(Regressin) 개요"
   ]
  },
  {
   "cell_type": "markdown",
   "id": "cc2dd0d5",
   "metadata": {},
   "source": [
    "회귀는 여러 개의 독립변수와 한 개의 종속변수 간의 상관관계를 모델링하는 기법을 통칭한다.\n",
    "\n",
    "예를 들어, 아파트의 방 개수, 방 크기, 주변 학군 등 여러 개의 독립변수에 따라 아파트 가격이라는 종속변수가 어떤 관계를 나타내는지를 모델링하고 예측해보자."
   ]
  },
  {
   "attachments": {},
   "cell_type": "markdown",
   "id": "99ee4fff",
   "metadata": {},
   "source": [
    "아래의 선형 회귀식을 예로 들면 ![선형회귀식](https://user-images.githubusercontent.com/98722581/170444358-8116850a-7251-414d-b938-85f879da57f7.png)\n",
    "\n",
    "Y는 종속 변수, 즉 아파트 가격을 뜻한다. \n",
    "X1, X2, X3, …, Xn은 방 개수, 방 크기, 주변 학군 등의 독립변수를 의미한다. \n",
    "W1, W2, …, Wn은 이 독립변수의 값에 영향을 미치는 회귀 계수(Regression coefficients)이다.\n",
    "\n",
    "__머신러닝 회귀 예측의 핵심은 주어진 피처와 결정 값 데이터 기반에서 학습을 통해 최적의 회귀 계수(W1, W2, …, Wn)를 찾아내는 것이다.__"
   ]
  },
  {
   "cell_type": "markdown",
   "id": "2cf57b9a",
   "metadata": {},
   "source": [
    "### 회귀의 유형\n",
    "\n",
    "+ 회귀는 회귀 계수의 선형/비선형 여부, 독립변수의 개수, 종속변수의 개수에 따라 여러 가지 유형으로 나눌 수 있다. 회귀에서 가장 중요한 것은 바로 회귀 계수이다. 이 회귀 계수가 선형아냐 아니냐에 따라 선형 회귀와 비선형 회귀로 나눌 수 있다. 그리고 독립변수의 개수가 한 개인지 여러 개인지에 따라 단일 회귀, 다중 회귀로 나뉜다.\n",
    "\n",
    "독립변수 개수 | 회귀 계수의 결합\n",
    "--------------|-----------------\n",
    "1개 : 단일 회귀 | 선형 : 선형 회귀\n",
    "여러 개 : 다중 회귀 | 비선형 : 비선형 회귀\n",
    "\n",
    "각각의 회귀 계수에 대해 편미분을 하였을 때 회귀 계수를 포함하지 않으면 선형 모형 , 회귀 계수를 포함하면 비선형 모형이라 한다.\n",
    "\n",
    "예를 들어, 다음 회귀 모형의 경우\n",
    "\n",
    "![비선형회귀모형](https://user-images.githubusercontent.com/98722581/170446947-58a74e59-e6d6-43d7-854c-1a09e1614018.png)\n",
    "\n",
    "∂f/∂β0 = 1로 상수이므로 모형식이 β0에 대해서는 선형이지만,\n",
    "\n",
    "![편미분계수](https://user-images.githubusercontent.com/98722581/170447085-1969ac79-e8cf-4b4b-a75d-a9f8e7f1102c.png)\n",
    "\n",
    "β1, β2에 대한 편미분은 회귀 계수들을 포함하고 있으므로 β1, β2에 대해서는 전체적으로 비선형모형이 된다."
   ]
  },
  {
   "cell_type": "markdown",
   "id": "53af7921",
   "metadata": {},
   "source": [
    "### 지도학습 - 분류(Classification)와 회귀(Regression)\n",
    "\n",
    "두 가지 기법의 가장 큰 차이는 \n",
    "\n",
    "분류는 예측값이 카테고리와 같은 이산형 클래스 값이고\n",
    "\n",
    "회귀는 연속형 숫자 값이다."
   ]
  },
  {
   "cell_type": "markdown",
   "id": "c0aaf286",
   "metadata": {},
   "source": [
    "### 선형 회귀의 종류\n",
    "\n",
    "선형 회귀 모델은 규제(Regularization) 방법에 따라 다시 별도의 유형으로 나뉠 수 있다. 규제는 일반적인 선형 회귀의 과적합 문제를 해결하기 위해서 회귀 계수에 페널티 값을 적용하는 것을 말한다.\n",
    "\n",
    "+ 일반 선형 회귀 : 예측값과 실제 값의 RSS(Residual Sum of Squares)를 최소화할 수 있도록 회귀 계수를 최적화하며, 규제(Regularization)을 적용하지 않은 모델이다.\n",
    "\n",
    "+ 릿지(Ridge) : 릿지 회귀는 선형 회귀에 L2 규제를 추가한 회귀 모델이다.\n",
    "\n",
    "+ 라쏘(Lasso) : 라쏘 회귀는 선형 회귀에 L1 규제를 적용한 방식이다.\n",
    "\n",
    "+ 엘라스틱넷(ElasticNet) : L2, L1 규제를 함께 결합한 모델이다.\n",
    "\n",
    "+ 로지스틱 회귀(Logistic Regression) : 로지스틱 회귀는 회귀라는 이름이 붙어있지만, 사실은 분류에 사용되는 선형 모델이다."
   ]
  }
 ],
 "metadata": {
  "kernelspec": {
   "display_name": "Python 3 (ipykernel)",
   "language": "python",
   "name": "python3"
  },
  "language_info": {
   "codemirror_mode": {
    "name": "ipython",
    "version": 3
   },
   "file_extension": ".py",
   "mimetype": "text/x-python",
   "name": "python",
   "nbconvert_exporter": "python",
   "pygments_lexer": "ipython3",
   "version": "3.9.7"
  }
 },
 "nbformat": 4,
 "nbformat_minor": 5
}
