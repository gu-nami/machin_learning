{
 "cells": [
  {
   "attachments": {},
   "cell_type": "markdown",
   "id": "d606d06d",
   "metadata": {},
   "source": [
    "## 02 단순 선형 회귀(Simple Regression)을 통한 회귀의 이해\n",
    "\n",
    "주택 가격이 주택의 크기로만 결정 되는 단순 선형 회귀로 가정하면 다음과 같이 주택가격은 주택 크기에 대한 선형(직선 형태)의 관계로 표현할 수 있다. 즉, 예측값을 아래와 같이 계산할 수 있다. \n",
    "\n",
    "![예측값](https://user-images.githubusercontent.com/98722581/170450344-cc82cd2d-e212-4e2a-8f7e-113f79ca4192.png)\n",
    "\n",
    "실제 값과 회귀 모델의 차이에 따른 오류 값을 남은 오류, 즉 잔차라고 부른다. \n",
    "\n",
    "__최적의 회귀 모델을 만든다는 것은 바로 전체 데이터의 잔차(오류 값) 합이 최소가 되는 모델을 만든다는 의미이다.__\n",
    "\n",
    "![주택 가격 회귀 모형](https://user-images.githubusercontent.com/98722581/170448727-96f1823d-0b3e-492c-98af-929bfb2a4880.png)"
   ]
  },
  {
   "cell_type": "markdown",
   "id": "3339a20c",
   "metadata": {},
   "source": [
    "### RSS 기반의 회귀 오류 측정"
   ]
  },
  {
   "cell_type": "markdown",
   "id": "91bda030",
   "metadata": {},
   "source": [
    "RSS : 오류 값의 제곱을 구해서 더하는 방식이다. 일반적으로 미분 등의 계산을 편리하게 하기 위해서 RSS 방식으로 오류 합을 구한다. 즉 Error²= RSS 이다.\n",
    "\n",
    "일반적으로 RSS는 학습 데이터의 건수로 나누어서 다음과 같이 정규화된 식으로 표현된다.\n",
    "\n",
    "![RSS](https://user-images.githubusercontent.com/98722581/170451718-4df0f15a-6f08-4f03-b9b2-2ffee8b8b942.png)\n",
    "\n",
    "+ 이 RSS를 최소로 하는 W0, W1, 즉 회귀 계수를 학습을 통해서 찾는 것이 머신러닝 기반 회귀의 핵심 사항이다.\n",
    "+ RSS는 회귀식의 독립변수 X, 종속변수 Y가 중심 변수가 아니라 회귀계수(W)가 중심 변수임을 인지하는 것이 매우 중요하다.(학습 데이터로 입력되는 독립변수와 종속변수는 RSS에서 모두 상수로 간주한다.)"
   ]
  },
  {
   "cell_type": "markdown",
   "id": "959324f4",
   "metadata": {},
   "source": [
    "### RSS - 회귀의 비용 함수\n",
    "\n",
    "회귀에서 이 RSS는 비용(Cost)이며 w 변수(회귀 계수)로 구성되는 RSS를 비용 함수라고 한다. 머신 러닝 회귀 알고리즘은 데이터를 계속 학습하면서 이 비용 함수가 반환하는 값(즉, 오류 값)을 지속해서 감소시키고 최종적으로는 더 이상 감소하지 않는 최소의 오류 값을 구하는 것이다. 비용 함수를 손실함수(loss function)라고도 한다."
   ]
  }
 ],
 "metadata": {
  "kernelspec": {
   "display_name": "Python 3 (ipykernel)",
   "language": "python",
   "name": "python3"
  },
  "language_info": {
   "codemirror_mode": {
    "name": "ipython",
    "version": 3
   },
   "file_extension": ".py",
   "mimetype": "text/x-python",
   "name": "python",
   "nbconvert_exporter": "python",
   "pygments_lexer": "ipython3",
   "version": "3.9.7"
  }
 },
 "nbformat": 4,
 "nbformat_minor": 5
}
